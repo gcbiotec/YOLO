{
  "nbformat": 4,
  "nbformat_minor": 0,
  "metadata": {
    "colab": {
      "provenance": [],
      "authorship_tag": "ABX9TyMdd61zf7/sENHjV6Vrqxzr",
      "include_colab_link": true
    },
    "kernelspec": {
      "name": "python3",
      "display_name": "Python 3"
    },
    "language_info": {
      "name": "python"
    }
  },
  "cells": [
    {
      "cell_type": "markdown",
      "metadata": {
        "id": "view-in-github",
        "colab_type": "text"
      },
      "source": [
        "<a href=\"https://colab.research.google.com/github/gcbiotec/YOLO/blob/main/Text_Speech.ipynb\" target=\"_parent\"><img src=\"https://colab.research.google.com/assets/colab-badge.svg\" alt=\"Open In Colab\"/></a>"
      ]
    },
    {
      "cell_type": "code",
      "execution_count": 2,
      "metadata": {
        "colab": {
          "base_uri": "https://localhost:8080/",
          "height": 0
        },
        "id": "vX4hny9jiYm3",
        "outputId": "d19dd616-4599-449c-d574-d269bfdd438c"
      },
      "outputs": [
        {
          "output_type": "stream",
          "name": "stdout",
          "text": [
            "Requirement already satisfied: gtts in /usr/local/lib/python3.10/dist-packages (2.5.0)\n",
            "Requirement already satisfied: requests<3,>=2.27 in /usr/local/lib/python3.10/dist-packages (from gtts) (2.31.0)\n",
            "Requirement already satisfied: click<8.2,>=7.1 in /usr/local/lib/python3.10/dist-packages (from gtts) (8.1.7)\n",
            "Requirement already satisfied: charset-normalizer<4,>=2 in /usr/local/lib/python3.10/dist-packages (from requests<3,>=2.27->gtts) (3.3.2)\n",
            "Requirement already satisfied: idna<4,>=2.5 in /usr/local/lib/python3.10/dist-packages (from requests<3,>=2.27->gtts) (3.6)\n",
            "Requirement already satisfied: urllib3<3,>=1.21.1 in /usr/local/lib/python3.10/dist-packages (from requests<3,>=2.27->gtts) (2.0.7)\n",
            "Requirement already satisfied: certifi>=2017.4.17 in /usr/local/lib/python3.10/dist-packages (from requests<3,>=2.27->gtts) (2023.11.17)\n"
          ]
        }
      ],
      "source": [
        "!pip install gtts"
      ]
    },
    {
      "cell_type": "code",
      "source": [
        "from gtts import gTTS\n",
        "import os\n",
        "\n",
        "def texto_para_audio(texto, caminho_arquivo):\n",
        "    # Aqui cria um objeto gTTS\n",
        "    tts = gTTS(text=texto, lang='pt-br')  # Língua portuguesa brasileira 'pt-br'\n",
        "\n",
        "    # Salva o arquivo de áudio\n",
        "    tts.save(caminho_arquivo)\n",
        "\n",
        "    # Reproduz o áudio\n",
        "    os.system(f\"start {caminho_arquivo}\")  # Isso abrirá o reprodutor de áudio padrão no Windows\n",
        "\n",
        "# Exemplo de uso\n",
        "texto = \"Olá! Este é um exemplo de texto para áudio.\"\n",
        "caminho_arquivo = \"exemplo.mp3\"\n",
        "\n",
        "texto_para_audio(texto, caminho_arquivo)"
      ],
      "metadata": {
        "colab": {
          "base_uri": "https://localhost:8080/",
          "height": 0
        },
        "id": "-iDy651VidVY",
        "outputId": "513ae419-c96e-459f-bb54-f88f09fcbcaf"
      },
      "execution_count": 3,
      "outputs": [
        {
          "output_type": "stream",
          "name": "stderr",
          "text": [
            "WARNING:gtts.lang:'pt-br' has been deprecated, falling back to 'pt'. This fallback will be removed in a future version.\n"
          ]
        }
      ]
    },
    {
      "cell_type": "code",
      "source": [],
      "metadata": {
        "id": "GuQjHVU-irjt"
      },
      "execution_count": null,
      "outputs": []
    },
    {
      "cell_type": "markdown",
      "source": [
        "#Aqui temos o código para reconhecer a fala e obedecer a comandos:"
      ],
      "metadata": {
        "id": "0ylQhiMcpIY8"
      }
    },
    {
      "cell_type": "code",
      "source": [
        "!pip install SpeechRecognition\n",
        "!pip install playsound\n",
        "!pip install pyjokes\n",
        "!pip install wikipedia\n",
        "\n",
        "!pip install portaudio numpy\n",
        "\n",
        "!pip install PyAudio\n",
        "!pip install winshell"
      ],
      "metadata": {
        "colab": {
          "base_uri": "https://localhost:8080/"
        },
        "id": "-FZe9jkPqSQP",
        "outputId": "eaa88552-d354-4043-ef22-a7c53ceb9be5"
      },
      "execution_count": 8,
      "outputs": [
        {
          "output_type": "stream",
          "name": "stdout",
          "text": [
            "Requirement already satisfied: SpeechRecognition in /usr/local/lib/python3.10/dist-packages (3.10.1)\n",
            "Requirement already satisfied: requests>=2.26.0 in /usr/local/lib/python3.10/dist-packages (from SpeechRecognition) (2.31.0)\n",
            "Requirement already satisfied: typing-extensions in /usr/local/lib/python3.10/dist-packages (from SpeechRecognition) (4.5.0)\n",
            "Requirement already satisfied: charset-normalizer<4,>=2 in /usr/local/lib/python3.10/dist-packages (from requests>=2.26.0->SpeechRecognition) (3.3.2)\n",
            "Requirement already satisfied: idna<4,>=2.5 in /usr/local/lib/python3.10/dist-packages (from requests>=2.26.0->SpeechRecognition) (3.6)\n",
            "Requirement already satisfied: urllib3<3,>=1.21.1 in /usr/local/lib/python3.10/dist-packages (from requests>=2.26.0->SpeechRecognition) (2.0.7)\n",
            "Requirement already satisfied: certifi>=2017.4.17 in /usr/local/lib/python3.10/dist-packages (from requests>=2.26.0->SpeechRecognition) (2023.11.17)\n",
            "Requirement already satisfied: playsound in /usr/local/lib/python3.10/dist-packages (1.3.0)\n",
            "Requirement already satisfied: pyjokes in /usr/local/lib/python3.10/dist-packages (0.6.0)\n",
            "Requirement already satisfied: wikipedia in /usr/local/lib/python3.10/dist-packages (1.4.0)\n",
            "Requirement already satisfied: beautifulsoup4 in /usr/local/lib/python3.10/dist-packages (from wikipedia) (4.11.2)\n",
            "Requirement already satisfied: requests<3.0.0,>=2.0.0 in /usr/local/lib/python3.10/dist-packages (from wikipedia) (2.31.0)\n",
            "Requirement already satisfied: charset-normalizer<4,>=2 in /usr/local/lib/python3.10/dist-packages (from requests<3.0.0,>=2.0.0->wikipedia) (3.3.2)\n",
            "Requirement already satisfied: idna<4,>=2.5 in /usr/local/lib/python3.10/dist-packages (from requests<3.0.0,>=2.0.0->wikipedia) (3.6)\n",
            "Requirement already satisfied: urllib3<3,>=1.21.1 in /usr/local/lib/python3.10/dist-packages (from requests<3.0.0,>=2.0.0->wikipedia) (2.0.7)\n",
            "Requirement already satisfied: certifi>=2017.4.17 in /usr/local/lib/python3.10/dist-packages (from requests<3.0.0,>=2.0.0->wikipedia) (2023.11.17)\n",
            "Requirement already satisfied: soupsieve>1.2 in /usr/local/lib/python3.10/dist-packages (from beautifulsoup4->wikipedia) (2.5)\n",
            "\u001b[31mERROR: Could not find a version that satisfies the requirement portaudio (from versions: none)\u001b[0m\u001b[31m\n",
            "\u001b[0m\u001b[31mERROR: No matching distribution found for portaudio\u001b[0m\u001b[31m\n",
            "\u001b[0mCollecting PyAudio\n",
            "  Using cached PyAudio-0.2.14.tar.gz (47 kB)\n",
            "  Installing build dependencies ... \u001b[?25l\u001b[?25hdone\n",
            "  Getting requirements to build wheel ... \u001b[?25l\u001b[?25hdone\n",
            "  Preparing metadata (pyproject.toml) ... \u001b[?25l\u001b[?25hdone\n",
            "Building wheels for collected packages: PyAudio\n",
            "  \u001b[1;31merror\u001b[0m: \u001b[1msubprocess-exited-with-error\u001b[0m\n",
            "  \n",
            "  \u001b[31m×\u001b[0m \u001b[32mBuilding wheel for PyAudio \u001b[0m\u001b[1;32m(\u001b[0m\u001b[32mpyproject.toml\u001b[0m\u001b[1;32m)\u001b[0m did not run successfully.\n",
            "  \u001b[31m│\u001b[0m exit code: \u001b[1;36m1\u001b[0m\n",
            "  \u001b[31m╰─>\u001b[0m See above for output.\n",
            "  \n",
            "  \u001b[1;35mnote\u001b[0m: This error originates from a subprocess, and is likely not a problem with pip.\n",
            "  Building wheel for PyAudio (pyproject.toml) ... \u001b[?25l\u001b[?25herror\n",
            "\u001b[31m  ERROR: Failed building wheel for PyAudio\u001b[0m\u001b[31m\n",
            "\u001b[0mFailed to build PyAudio\n",
            "\u001b[31mERROR: Could not build wheels for PyAudio, which is required to install pyproject.toml-based projects\u001b[0m\u001b[31m\n",
            "\u001b[0mRequirement already satisfied: winshell in /usr/local/lib/python3.10/dist-packages (0.6)\n"
          ]
        }
      ]
    },
    {
      "cell_type": "code",
      "source": [
        "#Primeiramente devemos importar todas as bibliotecas necessárias:\n",
        "import speech_recognition as sr\n",
        "from gtts import gTTS\n",
        "import os\n",
        "from datetime import datetime\n",
        "import playsound\n",
        "import pyjokes\n",
        "import wikipedia\n",
        "import pyaudio\n",
        "import webbrowser\n",
        "import winshell\n",
        "from pygame import mixer"
      ],
      "metadata": {
        "id": "FDsiR_6NtVi1"
      },
      "execution_count": null,
      "outputs": []
    },
    {
      "cell_type": "code",
      "source": [
        "#Esta função detecta audio pelo microfone:\n",
        "def get_audio():\n",
        "    r = sr.Recognizer()\n",
        "    with sr.Microphone() as source:\n",
        "        r.pause_threshold = 1\n",
        "\n",
        "        # Aqui ajustamos a sensibilidade para som mmbiente:\n",
        "        r.adjust_for_ambient_noise(source, duration=1)\n",
        "        audio = r.listen(source)\n",
        "        said = \"\"\n",
        "        try:\n",
        "            said = r.recognize_google(audio)\n",
        "            print(said)\n",
        "        except sr.UnknownValueError:\n",
        "            speak(\"Sorry, I did not get that.\")\n",
        "        except sr.RequestError:\n",
        "            speak(\"Sorry, the service is not available\")\n",
        "    return said.lower()\n",
        "\n",
        "#Converte o audio para texto:\n",
        "def speak(text):\n",
        "    tts = gTTS(text=text, lang='en')\n",
        "    filename = \"voice.mp3\"\n",
        "    try:\n",
        "        os.remove(filename)\n",
        "    except OSError:\n",
        "        pass\n",
        "    tts.save(filename)\n",
        "    playsound.playsound(filename)\n",
        "\n",
        "#Aqui fica a função de resposta aos comandos, com busca no Youtube:\n",
        "def respond(text):\n",
        "    print(\"Text from get audio \" + text)\n",
        "    if 'youtube' in text:\n",
        "        speak(\"What do you want to search for?\")\n",
        "        keyword = get_audio()\n",
        "        if keyword!= '':\n",
        "            url = f\"https://www.youtube.com/results?search_query={keyword}\"\n",
        "            webbrowser.get().open(url)\n",
        "            speak(f\"Here is what I have found for {keyword} on youtube\")\n",
        "    elif 'search' in text:\n",
        "        speak(\"What do you want to search for?\")\n",
        "        query = get_audio()\n",
        "        if query !='':\n",
        "            result = wikipedia.summary(query, sentences=3)\n",
        "            speak(\"According to wikipedia\")\n",
        "            print(result)\n",
        "            speak(result)\n",
        "    elif 'joke' in text:\n",
        "        speak(pyjokes.get_joke())\n",
        "    elif 'empty recycle bin' in text:\n",
        "        winshell.recycle_bin().empty(confirm=False, show_progress=False, sound=True)\n",
        "        speak(\"Recycle bin emptied\")\n",
        "    elif 'what time' in text:\n",
        "        strTime = datetime.today().strftime(\"%H:%M %p\")\n",
        "        print(strTime)\n",
        "        speak(strTime)\n",
        "    elif 'play music' in text or 'play song' in text:\n",
        "        speak(\"Now playing...\")\n",
        "        music_dir = \"C:\\\\Users\\\\UserName\\\\Downloads\\\\Music\\\\\" #add your music directory here..\n",
        "        songs = os.listdir(music_dir)\n",
        "        #counter = 0\n",
        "        print(songs)\n",
        "        playmusic(music_dir + \"\\\\\" + songs[0])\n",
        "    elif 'stop music' in text:\n",
        "        speak(\"Stopping playback.\")\n",
        "        stopmusic()\n",
        "    elif 'exit' in text:\n",
        "        speak(\"Goodbye, till next time\")\n",
        "        exit()\n",
        "#play music\n",
        "def playmusic(song):\n",
        "    mixer.init()\n",
        "    mixer.music.load(song)\n",
        "    mixer.music.play()\n",
        "#stop music\n",
        "def stopmusic():\n",
        "    mixer.music.stop()\n",
        "\n",
        "#let's try it\n",
        "#text = get_audio()\n",
        "#speak(text)\n",
        "while True:\n",
        "    print(\"I am listening...\")\n",
        "    text = get_audio()\n",
        "    respond(text)"
      ],
      "metadata": {
        "colab": {
          "base_uri": "https://localhost:8080/",
          "height": 383
        },
        "id": "ZyFrEjJXpUxv",
        "outputId": "76e941fd-cd16-4da4-d305-1aef8a4aee49"
      },
      "execution_count": 5,
      "outputs": [
        {
          "output_type": "error",
          "ename": "ModuleNotFoundError",
          "evalue": "No module named 'speech_recognition'",
          "traceback": [
            "\u001b[0;31m---------------------------------------------------------------------------\u001b[0m",
            "\u001b[0;31mModuleNotFoundError\u001b[0m                       Traceback (most recent call last)",
            "\u001b[0;32m<ipython-input-5-92db0466cbb8>\u001b[0m in \u001b[0;36m<cell line: 2>\u001b[0;34m()\u001b[0m\n\u001b[1;32m      1\u001b[0m \u001b[0;31m#Primeiramente devemos importar todas as bibliotecas necessárias:\u001b[0m\u001b[0;34m\u001b[0m\u001b[0;34m\u001b[0m\u001b[0m\n\u001b[0;32m----> 2\u001b[0;31m \u001b[0;32mimport\u001b[0m \u001b[0mspeech_recognition\u001b[0m \u001b[0;32mas\u001b[0m \u001b[0msr\u001b[0m\u001b[0;34m\u001b[0m\u001b[0;34m\u001b[0m\u001b[0m\n\u001b[0m\u001b[1;32m      3\u001b[0m \u001b[0;32mfrom\u001b[0m \u001b[0mgtts\u001b[0m \u001b[0;32mimport\u001b[0m \u001b[0mgTTS\u001b[0m\u001b[0;34m\u001b[0m\u001b[0;34m\u001b[0m\u001b[0m\n\u001b[1;32m      4\u001b[0m \u001b[0;32mimport\u001b[0m \u001b[0mos\u001b[0m\u001b[0;34m\u001b[0m\u001b[0;34m\u001b[0m\u001b[0m\n\u001b[1;32m      5\u001b[0m \u001b[0;32mfrom\u001b[0m \u001b[0mdatetime\u001b[0m \u001b[0;32mimport\u001b[0m \u001b[0mdatetime\u001b[0m\u001b[0;34m\u001b[0m\u001b[0;34m\u001b[0m\u001b[0m\n",
            "\u001b[0;31mModuleNotFoundError\u001b[0m: No module named 'speech_recognition'",
            "",
            "\u001b[0;31m---------------------------------------------------------------------------\u001b[0;32m\nNOTE: If your import is failing due to a missing package, you can\nmanually install dependencies using either !pip or !apt.\n\nTo view examples of installing some common dependencies, click the\n\"Open Examples\" button below.\n\u001b[0;31m---------------------------------------------------------------------------\u001b[0m\n"
          ],
          "errorDetails": {
            "actions": [
              {
                "action": "open_url",
                "actionText": "Open Examples",
                "url": "/notebooks/snippets/importing_libraries.ipynb"
              }
            ]
          }
        }
      ]
    }
  ]
}