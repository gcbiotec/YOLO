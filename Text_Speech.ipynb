{
  "nbformat": 4,
  "nbformat_minor": 0,
  "metadata": {
    "colab": {
      "provenance": [],
      "authorship_tag": "ABX9TyNDVf2+nDNfDEkuC98dTxuq",
      "include_colab_link": true
    },
    "kernelspec": {
      "name": "python3",
      "display_name": "Python 3"
    },
    "language_info": {
      "name": "python"
    }
  },
  "cells": [
    {
      "cell_type": "markdown",
      "metadata": {
        "id": "view-in-github",
        "colab_type": "text"
      },
      "source": [
        "<a href=\"https://colab.research.google.com/github/gcbiotec/YOLO/blob/main/Text_Speech.ipynb\" target=\"_parent\"><img src=\"https://colab.research.google.com/assets/colab-badge.svg\" alt=\"Open In Colab\"/></a>"
      ]
    },
    {
      "cell_type": "code",
      "execution_count": 2,
      "metadata": {
        "colab": {
          "base_uri": "https://localhost:8080/"
        },
        "id": "vX4hny9jiYm3",
        "outputId": "d19dd616-4599-449c-d574-d269bfdd438c"
      },
      "outputs": [
        {
          "output_type": "stream",
          "name": "stdout",
          "text": [
            "Requirement already satisfied: gtts in /usr/local/lib/python3.10/dist-packages (2.5.0)\n",
            "Requirement already satisfied: requests<3,>=2.27 in /usr/local/lib/python3.10/dist-packages (from gtts) (2.31.0)\n",
            "Requirement already satisfied: click<8.2,>=7.1 in /usr/local/lib/python3.10/dist-packages (from gtts) (8.1.7)\n",
            "Requirement already satisfied: charset-normalizer<4,>=2 in /usr/local/lib/python3.10/dist-packages (from requests<3,>=2.27->gtts) (3.3.2)\n",
            "Requirement already satisfied: idna<4,>=2.5 in /usr/local/lib/python3.10/dist-packages (from requests<3,>=2.27->gtts) (3.6)\n",
            "Requirement already satisfied: urllib3<3,>=1.21.1 in /usr/local/lib/python3.10/dist-packages (from requests<3,>=2.27->gtts) (2.0.7)\n",
            "Requirement already satisfied: certifi>=2017.4.17 in /usr/local/lib/python3.10/dist-packages (from requests<3,>=2.27->gtts) (2023.11.17)\n"
          ]
        }
      ],
      "source": [
        "!pip install gtts"
      ]
    },
    {
      "cell_type": "code",
      "source": [
        "from gtts import gTTS\n",
        "import os\n",
        "\n",
        "def texto_para_audio(texto, caminho_arquivo):\n",
        "    # Aqui cria um objeto gTTS\n",
        "    tts = gTTS(text=texto, lang='pt-br')  # Língua portuguesa brasileira 'pt-br'\n",
        "\n",
        "    # Salva o arquivo de áudio\n",
        "    tts.save(caminho_arquivo)\n",
        "\n",
        "    # Reproduz o áudio\n",
        "    os.system(f\"start {caminho_arquivo}\")  # Isso abrirá o reprodutor de áudio padrão no Windows\n",
        "\n",
        "# Exemplo de uso\n",
        "texto = \"Olá! Este é um exemplo de texto para áudio.\"\n",
        "caminho_arquivo = \"exemplo.mp3\"\n",
        "\n",
        "texto_para_audio(texto, caminho_arquivo)"
      ],
      "metadata": {
        "colab": {
          "base_uri": "https://localhost:8080/"
        },
        "id": "-iDy651VidVY",
        "outputId": "513ae419-c96e-459f-bb54-f88f09fcbcaf"
      },
      "execution_count": 3,
      "outputs": [
        {
          "output_type": "stream",
          "name": "stderr",
          "text": [
            "WARNING:gtts.lang:'pt-br' has been deprecated, falling back to 'pt'. This fallback will be removed in a future version.\n"
          ]
        }
      ]
    },
    {
      "cell_type": "code",
      "source": [],
      "metadata": {
        "id": "GuQjHVU-irjt"
      },
      "execution_count": null,
      "outputs": []
    }
  ]
}