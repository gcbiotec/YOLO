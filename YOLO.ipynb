{
  "nbformat": 4,
  "nbformat_minor": 0,
  "metadata": {
    "colab": {
      "provenance": [],
      "gpuType": "T4"
    },
    "kernelspec": {
      "name": "python3",
      "display_name": "Python 3"
    },
    "language_info": {
      "name": "python"
    },
    "accelerator": "GPU"
  },
  "cells": [
    {
      "cell_type": "markdown",
      "source": [
        "First we connect to the folder with the photos, inside the Google Drive:"
      ],
      "metadata": {
        "id": "YEqsFUYlldfJ"
      }
    },
    {
      "cell_type": "code",
      "execution_count": 37,
      "metadata": {
        "id": "OSTxhSZIXHKF",
        "colab": {
          "base_uri": "https://localhost:8080/"
        },
        "outputId": "237a5b4c-0017-4e77-f60a-7a1a677d80c6"
      },
      "outputs": [
        {
          "output_type": "stream",
          "name": "stdout",
          "text": [
            "Mounted at /content/gdrive\n"
          ]
        }
      ],
      "source": [
        "from google.colab import drive\n",
        "drive.mount('/content/gdrive')"
      ]
    },
    {
      "cell_type": "markdown",
      "source": [
        "Check with the images are inside the folder:"
      ],
      "metadata": {
        "id": "5_mNk69AmXjB"
      }
    },
    {
      "cell_type": "code",
      "source": [
        "!ls la \"/content/drive/MyDrive/InfoTech/Cursos_DIO/Formação Machine Learning/darknet\""
      ],
      "metadata": {
        "colab": {
          "base_uri": "https://localhost:8080/"
        },
        "id": "pv7OX612lc3K",
        "outputId": "b919bff6-0182-4a24-fbbf-6ec774ba9885"
      },
      "execution_count": 38,
      "outputs": [
        {
          "output_type": "stream",
          "name": "stdout",
          "text": [
            "ls: cannot access 'la': No such file or directory\n",
            "ls: cannot access '/content/drive/MyDrive/InfoTech/Cursos_DIO/Formação Machine Learning/darknet': Transport endpoint is not connected\n"
          ]
        }
      ]
    },
    {
      "cell_type": "code",
      "source": [
        "!sudo apt-get install tree"
      ],
      "metadata": {
        "colab": {
          "base_uri": "https://localhost:8080/"
        },
        "id": "PKMlpddb8H0_",
        "outputId": "40240861-74c7-46bb-8ca9-2e8d3fba727b"
      },
      "execution_count": 39,
      "outputs": [
        {
          "output_type": "stream",
          "name": "stdout",
          "text": [
            "Reading package lists... Done\n",
            "Building dependency tree... Done\n",
            "Reading state information... Done\n",
            "tree is already the newest version (2.0.2-1).\n",
            "0 upgraded, 0 newly installed, 0 to remove and 18 not upgraded.\n"
          ]
        }
      ]
    },
    {
      "cell_type": "code",
      "source": [
        "!tree \"/content/drive/MyDrive/InfoTech/Cursos_DIO/Formação Machine Learning/darknet\""
      ],
      "metadata": {
        "colab": {
          "base_uri": "https://localhost:8080/"
        },
        "id": "c_6zQFrk8LM-",
        "outputId": "12fc3290-4e93-493d-9765-429bf32321d9"
      },
      "execution_count": 40,
      "outputs": [
        {
          "output_type": "stream",
          "name": "stdout",
          "text": [
            "/content/drive/MyDrive/InfoTech/Cursos_DIO/Formação Machine Learning/darknet  [error opening dir]\n",
            "\n",
            "0 directories, 0 files\n"
          ]
        }
      ]
    },
    {
      "cell_type": "code",
      "source": [
        "# Check CUDA version:\n",
        "!/usr/local/cuda/bin/nvcc --version"
      ],
      "metadata": {
        "colab": {
          "base_uri": "https://localhost:8080/"
        },
        "id": "N1oyUXA6meDJ",
        "outputId": "3258ffea-7601-41d0-bf34-5b257e6fd484"
      },
      "execution_count": 41,
      "outputs": [
        {
          "output_type": "stream",
          "name": "stdout",
          "text": [
            "nvcc: NVIDIA (R) Cuda compiler driver\n",
            "Copyright (c) 2005-2022 NVIDIA Corporation\n",
            "Built on Wed_Sep_21_10:33:58_PDT_2022\n",
            "Cuda compilation tools, release 11.8, V11.8.89\n",
            "Build cuda_11.8.r11.8/compiler.31833905_0\n"
          ]
        }
      ]
    },
    {
      "cell_type": "code",
      "source": [
        "# We're unzipping the cuDNN files from your Drive folder directly to the VM CUDA folders\n",
        "!tar -xzvf \"/content/drive/MyDrive/InfoTech/Cursos_DIO/Formação Machine Learning/darknet/cuDNN/cudnn-11.3-linux-x64-v8.2.1.32.tgz\" -C /usr/local/"
      ],
      "metadata": {
        "colab": {
          "base_uri": "https://localhost:8080/"
        },
        "id": "NAD9dK-nm_k2",
        "outputId": "7385d41c-e6d1-40d4-d506-cf7e941594fd"
      },
      "execution_count": 42,
      "outputs": [
        {
          "output_type": "stream",
          "name": "stdout",
          "text": [
            "tar (child): /content/drive/MyDrive/InfoTech/Cursos_DIO/Formação Machine Learning/darknet/cuDNN/cudnn-11.3-linux-x64-v8.2.1.32.tgz: Cannot open: Transport endpoint is not connected\n",
            "tar (child): Error is not recoverable: exiting now\n",
            "\n",
            "gzip: stdin: unexpected end of file\n",
            "tar: Child returned status 2\n",
            "tar: Error is not recoverable: exiting now\n"
          ]
        }
      ]
    },
    {
      "cell_type": "code",
      "source": [
        "!chmod a+r \"/usr/local/cuda/include/cudnn.h\"\n",
        "\n",
        "# Now we check the version we already installed. Can comment this line on future runs\n",
        "!cat /usr/local/cuda/include/cudnn.h | grep CUDNN_MAJOR -A 2"
      ],
      "metadata": {
        "id": "vUjRHstu6ZMI"
      },
      "execution_count": 43,
      "outputs": []
    },
    {
      "cell_type": "code",
      "source": [
        "!git clone https://github.com/kriyeng/darknet/"
      ],
      "metadata": {
        "colab": {
          "base_uri": "https://localhost:8080/"
        },
        "id": "gpw5SqKSxCz6",
        "outputId": "cb2bf0d5-faa1-4d63-8b11-10265b3410f6"
      },
      "execution_count": 44,
      "outputs": [
        {
          "output_type": "stream",
          "name": "stdout",
          "text": [
            "Cloning into 'darknet'...\n",
            "remote: Enumerating objects: 10068, done.\u001b[K\n",
            "remote: Total 10068 (delta 0), reused 0 (delta 0), pack-reused 10068\u001b[K\n",
            "Receiving objects: 100% (10068/10068), 10.14 MiB | 12.25 MiB/s, done.\n",
            "Resolving deltas: 100% (6715/6715), done.\n"
          ]
        }
      ]
    },
    {
      "cell_type": "code",
      "source": [
        "%cd darknet"
      ],
      "metadata": {
        "colab": {
          "base_uri": "https://localhost:8080/"
        },
        "id": "tFUEYAMi1F1L",
        "outputId": "b662246a-ee54-4bdb-cad9-8a449e3383ea"
      },
      "execution_count": 45,
      "outputs": [
        {
          "output_type": "stream",
          "name": "stdout",
          "text": [
            "/content/darknet/gocv/darknet\n"
          ]
        }
      ]
    },
    {
      "cell_type": "code",
      "source": [
        "!ls"
      ],
      "metadata": {
        "colab": {
          "base_uri": "https://localhost:8080/"
        },
        "id": "MLjK1BjYJQi3",
        "outputId": "5074aa57-c287-4fe6-eb0e-73b184dd9018"
      },
      "execution_count": 46,
      "outputs": [
        {
          "output_type": "stream",
          "name": "stdout",
          "text": [
            "3rdparty      cfg\t\t      darknet.py\tinclude\t\t       README.md\n",
            "appveyor.yml  cmake\t\t      darknet_video.py\tjson_mjpeg_streams.sh  scripts\n",
            "build\t      CMakeLists.txt\t      data\t\tLICENSE\t\t       src\n",
            "build.ps1     CMakeSettings.json      image_yolov2.sh\tMakefile\t       video_v2.sh\n",
            "build.sh      DarknetConfig.cmake.in  image_yolov3.sh\tnet_cam_v3.sh\t       video_yolov3.sh\n"
          ]
        }
      ]
    },
    {
      "cell_type": "code",
      "source": [
        "!git checkout feature/google-colab"
      ],
      "metadata": {
        "colab": {
          "base_uri": "https://localhost:8080/"
        },
        "id": "Xj0FlifpKdd1",
        "outputId": "91dee463-161c-4f6d-dfec-314f2a326cf1"
      },
      "execution_count": 47,
      "outputs": [
        {
          "output_type": "stream",
          "name": "stdout",
          "text": [
            "Branch 'feature/google-colab' set up to track remote branch 'feature/google-colab' from 'origin'.\n",
            "Switched to a new branch 'feature/google-colab'\n"
          ]
        }
      ]
    },
    {
      "cell_type": "code",
      "source": [
        "# !git clone https://github.com/hybridgroup/gocv.git"
      ],
      "metadata": {
        "id": "xJ-1GKKmPk7T"
      },
      "execution_count": 48,
      "outputs": []
    },
    {
      "cell_type": "code",
      "source": [
        "#Compile Darknet\n",
        "!make"
      ],
      "metadata": {
        "colab": {
          "base_uri": "https://localhost:8080/"
        },
        "id": "-_YZEbWzKlNj",
        "outputId": "d269d0fc-f2be-4e5b-92c4-d15a2e17471c"
      },
      "execution_count": 49,
      "outputs": [
        {
          "output_type": "stream",
          "name": "stdout",
          "text": [
            "mkdir -p obj\n",
            "mkdir -p backup\n",
            "mkdir -p results\n",
            "chmod +x *.sh\n",
            "g++ -std=c++11 -Iinclude/ -I3rdparty/stb/include -DOPENCV `pkg-config --cflags opencv` -DGPU -I/usr/local/cuda/include/ -DCUDNN -Wall -Wfatal-errors -Wno-unused-result -Wno-unknown-pragmas -fPIC -Ofast -DOPENCV -DGPU -DCUDNN -I/usr/local/cudnn/include -c ./src/image_opencv.cpp -o obj/image_opencv.o\n",
            "Package opencv was not found in the pkg-config search path.\n",
            "Perhaps you should add the directory containing `opencv.pc'\n",
            "to the PKG_CONFIG_PATH environment variable\n",
            "No package 'opencv' found\n",
            "\u001b[01m\u001b[K./src/image_opencv.cpp:15:10:\u001b[m\u001b[K \u001b[01;31m\u001b[Kfatal error: \u001b[m\u001b[Kopencv2/core/version.hpp: No such file or directory\n",
            "   15 | #include \u001b[01;31m\u001b[K<opencv2/core/version.hpp>\u001b[m\u001b[K\n",
            "      |          \u001b[01;31m\u001b[K^~~~~~~~~~~~~~~~~~~~~~~~~~\u001b[m\u001b[K\n",
            "compilation terminated.\n",
            "make: *** [Makefile:149: obj/image_opencv.o] Error 1\n"
          ]
        }
      ]
    },
    {
      "cell_type": "code",
      "source": [
        "#Copies the Darknet compiled version to Google drive\n",
        "!cp ./darknet \"/content/drive/MyDrive/InfoTech/Cursos_DIO/Formação Machine Learning/darknet/bin/darknet\""
      ],
      "metadata": {
        "colab": {
          "base_uri": "https://localhost:8080/"
        },
        "id": "Lj-nx9EyKsHd",
        "outputId": "0049e110-7304-48d7-e6a3-cfd1895dab07"
      },
      "execution_count": 50,
      "outputs": [
        {
          "output_type": "stream",
          "name": "stdout",
          "text": [
            "cp: failed to access '/content/drive/MyDrive/InfoTech/Cursos_DIO/Formação Machine Learning/darknet/bin/darknet': Transport endpoint is not connected\n"
          ]
        }
      ]
    },
    {
      "cell_type": "code",
      "source": [
        "# Makes a dir for darknet and move there\n",
        "!mkdir darknet\n",
        "%cd darknet\n",
        "\n",
        "# Copy the Darkent compiled version to the VM local drive\n",
        "!cp /content/gdrive/My\\ Drive/darknet/bin/darknet ./darknet\n",
        "\n",
        "# Set execution permissions to Darknet\n",
        "!chmod +x ./darknet"
      ],
      "metadata": {
        "colab": {
          "base_uri": "https://localhost:8080/"
        },
        "id": "kk_k5Ydeb7_k",
        "outputId": "7ed0e481-fab0-4856-f736-ff647eacf9a6"
      },
      "execution_count": 51,
      "outputs": [
        {
          "output_type": "stream",
          "name": "stdout",
          "text": [
            "/content/darknet/gocv/darknet/darknet\n",
            "cp: cannot stat '/content/gdrive/My Drive/darknet/bin/darknet': No such file or directory\n",
            "chmod: cannot access './darknet': No such file or directory\n"
          ]
        }
      ]
    },
    {
      "cell_type": "code",
      "source": [],
      "metadata": {
        "id": "-_KL4sntb-hk"
      },
      "execution_count": null,
      "outputs": []
    }
  ]
}